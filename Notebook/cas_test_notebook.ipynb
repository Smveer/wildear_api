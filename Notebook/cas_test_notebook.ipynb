{
 "cells": [
  {
   "cell_type": "markdown",
   "source": [
    "# Imports"
   ],
   "metadata": {
    "collapsed": false
   }
  },
  {
   "cell_type": "code",
   "execution_count": null,
   "outputs": [],
   "source": [
    "import ctypes\n",
    "import matplotlib.pyplot as plt\n",
    "import numpy as np\n",
    "from Utils.library_overcoat import *\n",
    "\n",
    "# Load library\n",
    "rml = ctypes.CDLL(\"../../Library/target/debug/librust_ml.dylib\")"
   ],
   "metadata": {
    "collapsed": false
   }
  },
  {
   "cell_type": "markdown",
   "source": [
    "# Cas de tests"
   ],
   "metadata": {
    "collapsed": false
   }
  },
  {
   "cell_type": "markdown",
   "source": [
    "## Régression Linéaire"
   ],
   "metadata": {
    "collapsed": false
   }
  },
  {
   "cell_type": "markdown",
   "source": [
    "### Linear simple 2D"
   ],
   "metadata": {
    "collapsed": false
   }
  },
  {
   "cell_type": "code",
   "execution_count": null,
   "outputs": [],
   "source": [
    "X = np.array([\n",
    "      [1],\n",
    "      [2]\n",
    "], dtype=np.float64)\n",
    "Y = np.array([\n",
    "      2,\n",
    "      3\n",
    "], dtype=np.float64)\n",
    "\n",
    "plt.scatter(X, Y, color='red')"
   ],
   "metadata": {
    "collapsed": false
   }
  },
  {
   "cell_type": "markdown",
   "source": [
    "#### conversion des valeurs pour correspondre convention C"
   ],
   "metadata": {
    "collapsed": false
   }
  },
  {
   "cell_type": "code",
   "execution_count": null,
   "outputs": [],
   "source": [
    "cx = X.ctypes.data_as(ctypes.POINTER(ctypes.c_double))\n",
    "cy = Y.ctypes.data_as(ctypes.POINTER(ctypes.c_double))\n",
    "c_len_x = ctypes.c_int(len(X))"
   ],
   "metadata": {
    "collapsed": false
   }
  },
  {
   "cell_type": "markdown",
   "source": [
    "#### Imports du modèle"
   ],
   "metadata": {
    "collapsed": false
   }
  },
  {
   "cell_type": "code",
   "execution_count": null,
   "outputs": [],
   "source": [
    "# Init functions\n",
    "rml.create_linear_regression_model.restype = ctypes.c_void_p\n",
    "rml.train_linear_regression_model.argtypes = [\n",
    "    ctypes.c_void_p,\n",
    "    ctypes.POINTER(ctypes.c_double),\n",
    "    ctypes.POINTER(ctypes.c_double),\n",
    "    ctypes.c_size_t\n",
    "]\n",
    "rml.delete_linear_regression_model.argtypes = [\n",
    "    ctypes.c_void_p\n",
    "]"
   ],
   "metadata": {
    "collapsed": false
   }
  },
  {
   "cell_type": "markdown",
   "source": [
    "#### création du modèle"
   ],
   "metadata": {
    "collapsed": false
   }
  },
  {
   "cell_type": "code",
   "execution_count": null,
   "outputs": [],
   "source": [
    "model = rml.create_linear_regression_model()"
   ],
   "metadata": {
    "collapsed": false
   }
  },
  {
   "cell_type": "markdown",
   "source": [
    "#### Entrainement du modèle"
   ],
   "metadata": {
    "collapsed": false
   }
  },
  {
   "cell_type": "code",
   "execution_count": null,
   "outputs": [],
   "source": [
    "rml.train_linear_regression_model(ctypes.byref(model), cx, cy, c_len_x)"
   ],
   "metadata": {
    "collapsed": false
   }
  },
  {
   "cell_type": "markdown",
   "source": [
    "#### Prédiction du modèle"
   ],
   "metadata": {
    "collapsed": false
   }
  },
  {
   "cell_type": "code",
   "execution_count": null,
   "outputs": [],
   "source": [
    "x = 2\n",
    "c_input = ctypes.c_double(x)\n",
    "predicted = rml.predict_linear_regression_model(model, c_input)\n",
    "\n",
    "l = np.linspace(0, 8, 7)\n",
    "f = model.coefficient * l + model.constant\n",
    "plt.plot(l, f)\n",
    "plt.grid(True)\n",
    "plt.show()"
   ],
   "metadata": {
    "collapsed": false
   }
  },
  {
   "cell_type": "markdown",
   "source": [
    "#### Suppression du modèle"
   ],
   "metadata": {
    "collapsed": false
   }
  },
  {
   "cell_type": "code",
   "execution_count": null,
   "outputs": [],
   "source": [
    "rml.delete_linear_regression_model(model)"
   ],
   "metadata": {
    "collapsed": false
   }
  },
  {
   "cell_type": "markdown",
   "source": [
    "## Classification PMC"
   ],
   "metadata": {
    "collapsed": false
   }
  },
  {
   "cell_type": "markdown",
   "source": [
    "### Linear Simple"
   ],
   "metadata": {
    "collapsed": false
   }
  },
  {
   "cell_type": "markdown",
   "source": [
    "#### Imports modèle"
   ],
   "metadata": {
    "collapsed": false
   }
  },
  {
   "cell_type": "code",
   "execution_count": null,
   "outputs": [],
   "source": [
    "rml.delete_mlp_model.argtypes = [ctypes.c_void_p]\n",
    "rml.create_pmc_model.argtypes = [ctypes.POINTER(ctypes.c_int), ctypes.c_int]\n",
    "rml.create_pmc_model.restype = ctypes.c_void_p\n",
    "\n",
    "rml.predict_pmc.argtypes = [ctypes.c_void_p, ctypes.POINTER(ctypes.c_double),\n",
    "                            ctypes.c_int, ctypes.c_bool]\n",
    "rml.predict_pmc.restype = ctypes.POINTER(ctypes.c_float)\n",
    "rml.train_pmc_model.argtypes = [ctypes.c_void_p,\n",
    "                                ctypes.POINTER(ctypes.c_double), ctypes.c_int, ctypes.c_int,\n",
    "                                ctypes.POINTER(ctypes.c_double), ctypes.c_int, ctypes.c_int,\n",
    "                                ctypes.c_double, ctypes.c_int, ctypes.c_bool]\n",
    "rml.export_pmc.argtypes = [ctypes.c_void_p]\n",
    "rml.export_pmc.restype = ctypes.c_char_p\n",
    "rml.load_pmc_json.argtypes = [ctypes.c_char_p, ctypes.c_void_p]"
   ],
   "metadata": {
    "collapsed": false
   }
  },
  {
   "cell_type": "markdown",
   "source": [
    "### Création du modèle"
   ],
   "metadata": {
    "collapsed": false
   }
  },
  {
   "cell_type": "code",
   "execution_count": null,
   "outputs": [],
   "source": [
    "param = np.array([2, 1], dtype=np.int32)\n",
    "c_param = param.ctypes.data_as(ctypes.POINTER(ctypes.c_int))\n",
    "\n",
    "mlp_ptr = rml.create_pmc_model(c_param, ctypes.c_int(len(param)))"
   ],
   "metadata": {
    "collapsed": false
   }
  },
  {
   "cell_type": "markdown",
   "source": [
    "#### Entrainement du Modèle"
   ],
   "metadata": {
    "collapsed": false
   }
  },
  {
   "cell_type": "code",
   "execution_count": null,
   "outputs": [],
   "source": [
    "i_test = np.array([[0.0, 0.0], [0.0, 1.0], [1.0, 0.0]], dtype=np.float32)\n",
    "arr = i_test.flatten()\n",
    "o_test = np.array([[1.0], [-1.0], [-1.0]], dtype=np.float32)\n",
    "arr2 = o_test.flatten()\n",
    "\n",
    "# Conversion\n",
    "i_ptr = arr.ctypes.data_as(ctypes.POINTER(ctypes.c_double))\n",
    "c_length = ctypes.c_int(len(arr))\n",
    "c_sub_length = ctypes.c_int(len(i_test[0]))\n",
    "\n",
    "o_ptr = arr2.ctypes.data_as(ctypes.POINTER(ctypes.c_double))\n",
    "o_length = ctypes.c_int(len(arr2))\n",
    "o_sub_length = ctypes.c_int(len(o_test[0]))\n",
    "\n",
    "alpha = ctypes.c_double(0.01)\n",
    "iteration = ctypes.c_int(100000)\n",
    "is_classification = ctypes.c_bool(True)\n",
    "\n",
    "# Entrainement\n",
    "rml.train_pmc_model(mlp_ptr, i_ptr, c_length, c_sub_length, o_ptr, o_length, o_sub_length, alpha, iteration,\n",
    "                    is_classification)"
   ],
   "metadata": {
    "collapsed": false
   }
  },
  {
   "cell_type": "markdown",
   "source": [
    "#### Prédiction"
   ],
   "metadata": {
    "collapsed": false
   }
  },
  {
   "cell_type": "code",
   "execution_count": null,
   "outputs": [],
   "source": [
    "if mlp_ptr is not None:\n",
    "    test_1_all_samples_inputs = np.array([\n",
    "        [0.0, 0.0],\n",
    "        [0.0, 1.0],\n",
    "        [1.0, 0.0]\n",
    "    ], dtype=np.float32)\n",
    "    test_1_all_samples_expected_outputs = np.array([\n",
    "        [1.0],\n",
    "        [-1.0],\n",
    "        [-1.0]\n",
    "    ], dtype=np.float32)\n",
    "\n",
    "    res = []\n",
    "    for sample_inputs in test_1_all_samples_inputs:\n",
    "        sample_ptr = sample_inputs.ctypes.data_as(ctypes.POINTER(ctypes.c_double))\n",
    "        sample_length = ctypes.c_int(len(sample_inputs))\n",
    "\n",
    "        res_ptr = rml.predict_pmc(mlp_ptr, sample_ptr, sample_length, ctypes.c_bool(True))\n",
    "        res_array = np.zeros(len(sample_inputs), dtype=np.float32)\n",
    "        for i in range(len(sample_inputs)):\n",
    "            res_array[i] = res_ptr[i]\n",
    "        res.append([res_array[0]])\n",
    "\n",
    "    print(\"--------------------- Predict ---------------------\")\n",
    "    print(res)"
   ],
   "metadata": {
    "collapsed": false
   }
  },
  {
   "cell_type": "markdown",
   "source": [
    "#### Export du modèle"
   ],
   "metadata": {
    "collapsed": false
   }
  },
  {
   "cell_type": "code",
   "execution_count": null,
   "outputs": [],
   "source": [
    "pmc_data_c_string = rml.export_pmc(mlp_ptr)\n",
    "pmc_data_str = ctypes.cast(pmc_data_c_string, ctypes.c_char_p).value.decode(\"utf-8\")\n",
    "\n",
    "pmc_data_json = json.loads(pmc_data_str)\n",
    "\n",
    "with open(\"notebook_pmc_data.json\", \"w\") as file:\n",
    "    json.dump(pmc_data_json, file)"
   ],
   "metadata": {
    "collapsed": false
   }
  },
  {
   "cell_type": "markdown",
   "source": [
    "#### Import du modèle"
   ],
   "metadata": {
    "collapsed": false
   }
  },
  {
   "cell_type": "code",
   "execution_count": null,
   "outputs": [],
   "source": [
    "with open(\"pmc_data.json\", \"r\") as file:\n",
    "    json_data = file.read()\n",
    "\n",
    "rml.load_pmc_json(json_data.encode(\"utf-8\"), mlp_ptr)"
   ],
   "metadata": {
    "collapsed": false
   }
  }
 ],
 "metadata": {
  "kernelspec": {
   "display_name": "Python 3",
   "language": "python",
   "name": "python3"
  },
  "language_info": {
   "codemirror_mode": {
    "name": "ipython",
    "version": 2
   },
   "file_extension": ".py",
   "mimetype": "text/x-python",
   "name": "python",
   "nbconvert_exporter": "python",
   "pygments_lexer": "ipython2",
   "version": "2.7.6"
  }
 },
 "nbformat": 4,
 "nbformat_minor": 0
}
